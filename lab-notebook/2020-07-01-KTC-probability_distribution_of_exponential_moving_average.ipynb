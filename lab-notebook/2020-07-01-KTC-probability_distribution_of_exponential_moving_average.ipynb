{
 "cells": [
  {
   "cell_type": "markdown",
   "metadata": {},
   "source": [
    "## 2020-07-01: Exploring the Probability Distribution of Exponential Moving Averages (EMAs)\n",
    "\n",
    "*Last Updated*: 2020-07-03\n",
    "\n",
    "### Authors\n",
    "* Kevin Chu (kevin@velexi.com)\n",
    "\n",
    "### Overview\n",
    "* In this Jupyter notebook, we explore the probability distribution of exponential moving averages (EMAs).\n",
    "\n",
    "### Definitions\n",
    "\n",
    "Let $X = \\{X_0, X_1, X_2, \\ldots \\}$ be a times series where $X_i$ is a random variable probability distribution $p(x)$ for all $i$. For smoothing parameter $\\alpha$, define the EMAs $Y_n$ of $X$ as follows.\n",
    "\n",
    "* $Y_0 = X_0$\n",
    "\n",
    "* $Y_{n+1} = \\alpha Y_n + (1 - \\alpha) X_n$    \n",
    "\n",
    "### Key Results\n",
    "* For sufficiently large $n$, the probability distribution of $Y_n$ ranges between being similar to $p(x)$ (when $\\alpha$ is near 0) and a Gaussian-like distribution (when $\\alpha$ is near 1).\n",
    "\n",
    "    * _Intuition_. $Y_n$ is mostly equal to $X_n$ when $\\alpha$ is near 0, so the probability distributions of $Y_n$ and $X_n$ would be expected to be similar. When $\\alpha$ is near 1, then $Y_n$ has significant contributions from all of the $X_i$. As a result, $Y_n - X_0$ is similar to the sum of i.i.d. random variables, which approaches a Gaussian for large $n$.\n",
    "    \n",
    "* If all of the $X_i$ are drawn from the same probability distribution, then $E[Y_n] = E[X]$.\n",
    "\n",
    "    * If $X_0$ is drawn from a different probability distribution than the rest of the $X_i$,\n",
    "      then $E[Y_n] \\rightarrow E[X]$ as $n \\rightarrow \\infty$.\n",
    "    \n",
    "* As $n \\rightarrow \\infty$,\n",
    "\n",
    "  $$\n",
    "    Var[Y_n] \\rightarrow \\left( \\frac{1 - \\alpha}{1 + \\alpha} \\right) Var[X].\n",
    "  $$\n",
    "  \n",
    "    * This result holds regardless of whether $X_0$ is drawn from the same probability distribution as the rest of the $X_i$.\n",
    "    \n",
    "* \"Ergodicity\" appears to hold for the *probability distributions* of EMAs: the distribution of EMA values over time appears to be the same as the distribution of final EMA values over an ensemble.\n",
    "\n",
    "### User parameters\n",
    "* `num_time_points`: number of points in the time series\n",
    "* `num_ensemble_samples`: number of time series to include in the ensemble\n",
    "* `pdf`: probability distribution function of data samples"
   ]
  },
  {
   "cell_type": "code",
   "execution_count": 1,
   "metadata": {},
   "outputs": [],
   "source": [
    "# --- User parameters\n",
    "\n",
    "# Dataset parameters\n",
    "num_time_points = 20000\n",
    "num_ensemble_samples = 20000\n",
    "\n",
    "# Probability distribution\n",
    "#\n",
    "# Valid options: 'uniform', 'normal', lognormal', 'exponential'\n",
    "pdf = 'uniform'"
   ]
  },
  {
   "cell_type": "code",
   "execution_count": 2,
   "metadata": {},
   "outputs": [],
   "source": [
    "# --- Imports\n",
    "\n",
    "# Standard library\n",
    "import time\n",
    "\n",
    "# External packages\n",
    "import numba\n",
    "from numba import jit\n",
    "import numpy as np\n",
    "import pandas as pd\n",
    "import seaborn as sns"
   ]
  },
  {
   "cell_type": "code",
   "execution_count": 3,
   "metadata": {},
   "outputs": [],
   "source": [
    "# --- Functions\n",
    "\n",
    "@jit(nopython=True, nogil=True)\n",
    "def compute_ema(x, alpha):\n",
    "    \"\"\"\n",
    "    Compute exponential moving average.\n",
    "    \n",
    "        ema[0] = x[0]\n",
    "        ema[i+1] = alpha * ema[i] + (1 - alpha) * x[i]\n",
    "    \n",
    "    x: numpy.ndarray\n",
    "        time series data. The time index is the first index in 'x'.\n",
    "\n",
    "    alpha: float\n",
    "        weight factor\n",
    "    \"\"\"\n",
    "    num_time_samples = x.shape[0]\n",
    "    ema = np.empty(x.shape, dtype=np.float64)\n",
    "    ema[0] = x[0]\n",
    "    for i in range(1, num_time_samples):\n",
    "        ema[i] = alpha * ema[i-1] + (1 - alpha) * x[i]\n",
    "    return ema"
   ]
  },
  {
   "cell_type": "code",
   "execution_count": 4,
   "metadata": {},
   "outputs": [
    {
     "name": "stdout",
     "output_type": "stream",
     "text": [
      "'compute_ema()' tests: PASSED\n",
      "Runtime 'compute_ema()' (with compilation): 0.389s\n",
      "Runtime 'compute_ema()' (after compilation): 5.6e-05s\n"
     ]
    }
   ],
   "source": [
    "# --- Test compute_ema()\n",
    "\n",
    "# Preparations\n",
    "num_time_points_test = 3\n",
    "num_ensemble_samples_test = 5\n",
    "alpha_test = 0.25\n",
    "\n",
    "x_test = np.random.normal(\n",
    "    size=[num_time_points_test, num_ensemble_samples_test])\n",
    "\n",
    "# Exercise functionality\n",
    "t_start = time.time()\n",
    "ema = compute_ema(x_test, alpha=alpha_test)\n",
    "t_end = time.time()\n",
    "elapsed_time_initial = t_end - t_start\n",
    "\n",
    "# Check results\n",
    "assert (ema[0,:] == x_test[0,:]).all()\n",
    "for i in range(1, num_time_points_test):\n",
    "    assert np.allclose(\n",
    "        ema[i,:], (alpha_test * ema[i-1,:] + (1-alpha_test)*x_test[i,:]))\n",
    "    \n",
    "# Verify computational performance boost from Numba\n",
    "t_start = time.time()\n",
    "ema = compute_ema(x_test, alpha=alpha_test)\n",
    "t_end = time.time()\n",
    "elapsed_time_second_call = t_end - t_start\n",
    "\n",
    "# Print results\n",
    "print(\"'compute_ema()' tests: PASSED\")\n",
    "print(\"Runtime 'compute_ema()' (with compilation): {:.3g}s\"\n",
    "      .format(elapsed_time_initial))\n",
    "print(\"Runtime 'compute_ema()' (after compilation): {:.3g}s\"\n",
    "      .format(elapsed_time_second_call))"
   ]
  },
  {
   "cell_type": "code",
   "execution_count": 5,
   "metadata": {},
   "outputs": [],
   "source": [
    "# --- Preparations\n",
    "\n",
    "# Seaborn configuration\n",
    "sns.set(color_codes=True)"
   ]
  },
  {
   "cell_type": "code",
   "execution_count": 6,
   "metadata": {},
   "outputs": [],
   "source": [
    "# --- Generate ensemble of time series\n",
    "\n",
    "if pdf == 'uniform':\n",
    "    x = np.random.uniform(0, 1, size=[num_time_points, num_ensemble_samples])\n",
    "elif pdf == 'normal':\n",
    "    x = np.random.normal(size=[num_time_points, num_ensemble_samples])\n",
    "elif pdf == 'lognormal':\n",
    "    x = np.random.lognormal(1, 1, size=[num_time_points, num_ensemble_samples])\n",
    "elif pdf == 'exponential':\n",
    "    x = np.random.exponential(size=[num_time_points, num_ensemble_samples])"
   ]
  },
  {
   "cell_type": "code",
   "execution_count": 7,
   "metadata": {},
   "outputs": [
    {
     "name": "stdout",
     "output_type": "stream",
     "text": [
      "E[X]: 0.5\n",
      "Var[X]: 0.0833\n"
     ]
    },
    {
     "data": {
      "text/plain": [
       "<matplotlib.axes._subplots.AxesSubplot at 0x141de4090>"
      ]
     },
     "execution_count": 7,
     "metadata": {},
     "output_type": "execute_result"
    },
    {
     "data": {
      "image/png": "[encoded data removed]",
      "text/plain": [
       "<Figure size 432x288 with 1 Axes>"
      ]
     },
     "metadata": {},
     "output_type": "display_data"
    }
   ],
   "source": [
    "# --- Analyze raw data\n",
    "\n",
    "# Compute mean and variance\n",
    "x_mean = x.mean()\n",
    "x_var = x.var()\n",
    "print(\"E[X]: {:.3g}\".format(x_mean))\n",
    "print(\"Var[X]: {:.3g}\".format(x_var))\n",
    "\n",
    "# Plot probability distribution\n",
    "sns.distplot(x[0,:])"
   ]
  },
  {
   "cell_type": "markdown",
   "metadata": {},
   "source": [
    "### Probability distribution of final EMA values for a small $\\alpha$ value"
   ]
  },
  {
   "cell_type": "code",
   "execution_count": null,
   "metadata": {},
   "outputs": [],
   "source": [
    "# Exponential Moving Average (EMA) parameters\n",
    "alpha = 0.05\n",
    "\n",
    "# Compute exponential moving averages\n",
    "t_start = time.time()\n",
    "ema = compute_ema(x, alpha=alpha)\n",
    "t_end = time.time()\n",
    "print(\"Runtime 'compute_ema()': {:.3g}s\".format(t_end - t_start))\n",
    "\n",
    "# Get final EMA values\n",
    "ema_final = ema[-1,:]\n",
    "\n",
    "# Compute mean and variance at end time\n",
    "print(\"E[EMA]: {:.3g}\".format(ema_final.mean()))\n",
    "print(\"Var[EMA]: {:.3g}\".format(ema_final.var()))\n",
    "\n",
    "# Compare variance with asymptotic variance of (1-alpha)/(1+alpha)*Var[X]\n",
    "print(\"Asymptotic Var[EMA]: {:.3g}\".format((1 - alpha) / (1 + alpha) * x_var))\n",
    "\n",
    "# Visualize distribution at end time\n",
    "sns.distplot(ema_final)\n",
    "\n",
    "# Compare with distribution for X\n",
    "sns.kdeplot(x[0,:])"
   ]
  },
  {
   "cell_type": "markdown",
   "metadata": {},
   "source": [
    "### Probability distribution of EMA values within a single time series for small $\\alpha$ value"
   ]
  },
  {
   "cell_type": "code",
   "execution_count": null,
   "metadata": {},
   "outputs": [],
   "source": [
    "# Exponential Moving Average (EMA) parameters\n",
    "alpha = 0.05\n",
    "\n",
    "# Compute exponential moving averages\n",
    "t_start = time.time()\n",
    "ema_time_series = compute_ema(x[0,:], alpha=alpha)\n",
    "t_end = time.time()\n",
    "print(\"Runtime 'compute_ema()': {:.3g}s\".format(t_end - t_start))\n",
    "\n",
    "# Compute mean and variance of time series values\n",
    "ema_mean = ema_time_series.mean()\n",
    "ema_var = ema_time_series.var()\n",
    "print(\"E[EMA]: {:.3g}\".format(ema_mean))\n",
    "print(\"Var[EMA]: {:.3g}\".format(ema_var))\n",
    "\n",
    "# Compare variance with asymptotic variance of (1-alpha)/(1+alpha)*Var[X]\n",
    "print(\"Asymptotic Var[EMA]: {:.3g}\".format((1 - alpha) / (1 + alpha) * x_var))\n",
    "\n",
    "# Visualize distribution of time series values\n",
    "sns.distplot(ema_time_series)\n",
    "\n",
    "# Compare with distribution for X\n",
    "sns.kdeplot(x[0,:])"
   ]
  },
  {
   "cell_type": "markdown",
   "metadata": {},
   "source": [
    "### Probability distribution of final EMA values for medium $\\alpha$ value"
   ]
  },
  {
   "cell_type": "code",
   "execution_count": null,
   "metadata": {},
   "outputs": [],
   "source": [
    "# Exponential Moving Average (EMA) parameters\n",
    "alpha = 0.5\n",
    "\n",
    "# Compute exponential moving averages\n",
    "t_start = time.time()\n",
    "ema = compute_ema(x, alpha=alpha)\n",
    "t_end = time.time()\n",
    "print(\"Runtime 'compute_ema()': {:.3g}s\".format(t_end - t_start))\n",
    "\n",
    "# Get final EMA values\n",
    "ema_final = ema[-1,:]\n",
    "\n",
    "# Compute mean and variance of final EMA values\n",
    "ema_mean = ema_final.mean()\n",
    "ema_var = ema_final.var()\n",
    "print(\"E[EMA]: {:.3g}\".format(ema_mean))\n",
    "print(\"Var[EMA]: {:.3g}\".format(ema_var))\n",
    "\n",
    "# Compare variance with asymptotic variance of (1-alpha)/(1+alpha)*Var[X]\n",
    "print(\"Asymptotic Var[EMA]: {:.3g}\".format((1 - alpha) / (1 + alpha) * x_var))\n",
    "\n",
    "# Visualize distribution of final EMA values\n",
    "sns.distplot(ema_final)\n",
    "\n",
    "# Compare with Gaussian distribution with parameters (mu = E[EMA], sigma^2 = Var[EMA])\n",
    "g = np.random.normal(ema_mean, np.sqrt(ema_var), size=[num_ensemble_samples])\n",
    "sns.kdeplot(g)"
   ]
  },
  {
   "cell_type": "markdown",
   "metadata": {},
   "source": [
    "### Probability distribution of EMA values within a single time series for medium $\\alpha$ value"
   ]
  },
  {
   "cell_type": "code",
   "execution_count": null,
   "metadata": {},
   "outputs": [],
   "source": [
    "# Exponential Moving Average (EMA) parameters\n",
    "alpha = 0.5\n",
    "\n",
    "# Compute exponential moving averages\n",
    "t_start = time.time()\n",
    "ema_time_series = compute_ema(x[0,:], alpha=alpha)\n",
    "t_end = time.time()\n",
    "print(\"Runtime 'compute_ema()': {:.3g}s\".format(t_end - t_start))\n",
    "\n",
    "# Compute mean and variance of time series values\n",
    "ema_mean = ema_time_series.mean()\n",
    "ema_var = ema_time_series.var()\n",
    "print(\"E[EMA]: {:.3g}\".format(ema_mean))\n",
    "print(\"Var[EMA]: {:.3g}\".format(ema_var))\n",
    "\n",
    "# Compare variance with asymptotic variance of (1-alpha)/(1+alpha)*Var[X]\n",
    "print(\"Asymptotic Var[EMA]: {:.3g}\".format((1 - alpha) / (1 + alpha) * x_var))\n",
    "\n",
    "# Visualize distribution of time series values\n",
    "sns.distplot(ema_time_series)\n",
    "\n",
    "# Compare with Gaussian distribution with parameters (mu = E[EMA], sigma^2 = Var[EMA])\n",
    "g = np.random.normal(ema_mean, np.sqrt(ema_var), size=[num_ensemble_samples])\n",
    "sns.kdeplot(g)"
   ]
  },
  {
   "cell_type": "markdown",
   "metadata": {},
   "source": [
    "### Probability distribution of final EMA values for a large $\\alpha$ value"
   ]
  },
  {
   "cell_type": "code",
   "execution_count": null,
   "metadata": {},
   "outputs": [],
   "source": [
    "# Exponential Moving Average (EMA) parameters\n",
    "alpha = 0.95\n",
    "\n",
    "# Compute exponential moving averages\n",
    "t_start = time.time()\n",
    "ema = compute_ema(x, alpha=alpha)\n",
    "t_end = time.time()\n",
    "print(\"Runtime 'compute_ema()': {:.3g}s\".format(t_end - t_start))\n",
    "\n",
    "# Get final EMA values\n",
    "ema_final = ema[-1,:]\n",
    "\n",
    "# Compute mean and variance of final EMA values\n",
    "ema_mean = ema_final.mean()\n",
    "ema_var = ema_final.var()\n",
    "print(\"E[EMA]: {:.3g}\".format(ema_mean))\n",
    "print(\"Var[EMA]: {:.3g}\".format(ema_var))\n",
    "\n",
    "# Compare variance with asymptotic variance of (1-alpha)/(1+alpha)*Var[X]\n",
    "print(\"Asymptotic Var[EMA]: {:.3g}\".format((1 - alpha) / (1 + alpha) * x_var))\n",
    "print(\"Approximate Asymptotic Var[EMA]: {:.3g}\".format((1 - alpha) / 2 * x_var))\n",
    "\n",
    "# Visualize distribution of final EMA values\n",
    "sns.distplot(ema_final)\n",
    "\n",
    "# Compare with Gaussian distribution with parameters (mu = E[EMA], sigma^2 = Var[EMA])\n",
    "g = np.random.normal(ema_mean, np.sqrt(ema_var), size=[num_ensemble_samples])\n",
    "sns.kdeplot(g)"
   ]
  },
  {
   "cell_type": "markdown",
   "metadata": {},
   "source": [
    "### Probability distribution of EMA values within a single time series for large $\\alpha$ value"
   ]
  },
  {
   "cell_type": "code",
   "execution_count": null,
   "metadata": {},
   "outputs": [],
   "source": [
    "# Exponential Moving Average (EMA) parameters\n",
    "alpha = 0.95\n",
    "\n",
    "# Compute exponential moving averages\n",
    "t_start = time.time()\n",
    "ema_time_series = compute_ema(x[0,:], alpha=alpha)\n",
    "t_end = time.time()\n",
    "print(\"Runtime 'compute_ema()': {:.3g}s\".format(t_end - t_start))\n",
    "\n",
    "# Compute mean and variance of time series values\n",
    "ema_mean = ema_time_series.mean()\n",
    "ema_var = ema_time_series.var()\n",
    "print(\"E[EMA]: {:.3g}\".format(ema_mean))\n",
    "print(\"Var[EMA]: {:.3g}\".format(ema_var))\n",
    "\n",
    "# Compare variance with asymptotic variance of (1-alpha)/(1+alpha)*Var[X]\n",
    "print(\"Asymptotic Var[EMA]: {:.3g}\".format((1 - alpha) / (1 + alpha) * x_var))\n",
    "print(\"Approximate Asymptotic Var[EMA]: {:.3g}\".format((1 - alpha) / 2 * x_var))\n",
    "\n",
    "# Visualize distribution of time series values\n",
    "sns.distplot(ema_time_series)\n",
    "\n",
    "# Compare with Gaussian distribution with parameters (mu = E[EMA], sigma^2 = Var[EMA])\n",
    "g = np.random.normal(ema_mean, np.sqrt(ema_var), size=[num_ensemble_samples])\n",
    "sns.kdeplot(g)"
   ]
  }
 ],
 "metadata": {
  "kernelspec": {
   "display_name": "Python 3",
   "language": "python",
   "name": "python3"
  },
  "language_info": {
   "codemirror_mode": {
    "name": "ipython",
    "version": 3
   },
   "file_extension": ".py",
   "mimetype": "text/x-python",
   "name": "python",
   "nbconvert_exporter": "python",
   "pygments_lexer": "ipython3",
   "version": "3.7.7"
  }
 },
 "nbformat": 4,
 "nbformat_minor": 4
}
