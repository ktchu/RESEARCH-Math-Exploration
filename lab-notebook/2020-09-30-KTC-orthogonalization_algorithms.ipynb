{
 "cells": [
  {
   "cell_type": "markdown",
   "metadata": {},
   "source": [
    "## 2020-09-30: Exploring Accuracy for Orthogonalization Algorithms\n",
    "\n",
    "*Last Updated*: 2020-09-30\n",
    "\n",
    "### Authors\n",
    "\n",
    "* Kevin Chu (kevin@velexi.com)\n",
    "\n",
    "### Overview\n",
    "\n",
    "In this Jupyter notebook, we explore the loss of orthogonality of modified Gram-Schmidt (MGS) and Householder orthogonalization algorithms.\n",
    "\n",
    "### Key Results\n",
    "\n",
    "* __Loss of Orthogonality__. For \"random matrices\", both MGS and Householder orthogonalization produce $Q$ matrices where $Q' * Q - I$ is within a couple of orders of magnitude of machine precision.\n",
    "\n",
    "    * $|Q' * Q - I|_2$ tends to be about an order of magnitude smaller for Householder orthogonalization than for MGS.\n",
    "    \n",
    "    * The standard deviation of $|Q' * Q - I|_2$ tends to be about several orders of magnitude smaller for Householder orthogonalization than for MGS.\n",
    "    \n",
    "* __Accuracy of Determinant__. For \"random matrices\", both MGS and Householder orthogonalization produce factorizations where the relative error of $\\det(Q R)$ is close to machine precision.\n",
    "\n",
    "    * The relative error of the $\\det(Q R)$ is very comparable for both algorithms.\n",
    "    \n",
    "### User parameters\n",
    "\n",
    "* `n`: matrix size\n",
    "* `num_samples`: number of matrices to sample"
   ]
  },
  {
   "cell_type": "code",
   "execution_count": 1,
   "metadata": {},
   "outputs": [
    {
     "data": {
      "text/plain": [
       "10000"
      ]
     },
     "execution_count": 1,
     "metadata": {},
     "output_type": "execute_result"
    }
   ],
   "source": [
    "# --- User parameters\n",
    "\n",
    "n = 100\n",
    "num_samples = 10000"
   ]
  },
  {
   "cell_type": "code",
   "execution_count": 2,
   "metadata": {},
   "outputs": [],
   "source": [
    "# --- Imports\n",
    "\n",
    "using BenchmarkTools\n",
    "using LinearAlgebra\n",
    "using Statistics"
   ]
  },
  {
   "cell_type": "code",
   "execution_count": 3,
   "metadata": {},
   "outputs": [],
   "source": [
    "# --- Functions\n",
    "\n",
    "\"\"\"\n",
    "    Compute QR factorization of `A` using the modified Gram-Schmidt algorithm.\n",
    "\"\"\"\n",
    "function mgs(A::Matrix)\n",
    "    # Initialize Q and R\n",
    "    Q = copy(A)\n",
    "    R = zero(A)\n",
    "    \n",
    "    for j in 1:size(Q, 2)\n",
    "        norm = LinearAlgebra.norm(Q[:, j])\n",
    "        if norm > 0\n",
    "            Q[:, j] /= norm\n",
    "            R[j, j] = norm\n",
    "        else\n",
    "            continue\n",
    "        end\n",
    "\n",
    "        column = Q[:, j]\n",
    "        for j_inner in (j + 1):size(Q, 2)\n",
    "            R[j, j_inner] = Q[:, j_inner] ⋅ column\n",
    "            Q[:, j_inner] -= R[j, j_inner] * column\n",
    "        end\n",
    "    end\n",
    "    \n",
    "    Q, R\n",
    "end;"
   ]
  },
  {
   "cell_type": "code",
   "execution_count": 4,
   "metadata": {},
   "outputs": [
    {
     "name": "stdout",
     "output_type": "stream",
     "text": [
      "Relative error Q * R: 1.5512172131292414e-16\n",
      "Absolute error Q * R: 7.893109130154954e-16\n",
      "opnorm(Q' * Q): 1.0000000000000004\n",
      "det(A): -105.74964923539657\n",
      "det(Q): -1.0000000000000002\n",
      "det(R): 105.74964923539655\n",
      "Relative error det(Q * R):-0.0\n",
      "Absolute error det(Q * R):0.0\n"
     ]
    }
   ],
   "source": [
    "# --- Test mgs()\n",
    "\n",
    "n = 10\n",
    "A = randn(n, n)\n",
    "Q, R = mgs(A)\n",
    "\n",
    "println(\"Relative error Q * R: \", opnorm(A - Q * R)/opnorm(A))\n",
    "println(\"Absolute error Q * R: \", opnorm(A - Q * R))\n",
    "println(\"opnorm(Q' * Q): \", opnorm(transpose(Q) * Q))\n",
    "\n",
    "det_A = det(A)\n",
    "det_Q = det(Q)\n",
    "det_R = det(R)\n",
    "println(\"det(A): \", det_A)\n",
    "println(\"det(Q): \", det_Q)\n",
    "println(\"det(R): \", det_R)\n",
    "println(\"Relative error det(Q * R):\", (det_A - det_Q*det_R) / det_A)\n",
    "println(\"Absolute error det(Q * R):\", det_A - det_Q*det_R)"
   ]
  },
  {
   "cell_type": "markdown",
   "metadata": {},
   "source": [
    "### Run Experiments"
   ]
  },
  {
   "cell_type": "code",
   "execution_count": 5,
   "metadata": {},
   "outputs": [],
   "source": [
    "# Initialize data vectors\n",
    "mgs_orthogonality_errors = zeros(num_samples)\n",
    "householder_orthogonality_errors = zeros(num_samples)\n",
    "\n",
    "mgs_det_errors = zeros(num_samples)\n",
    "householder_det_errors = zeros(num_samples)\n",
    "\n",
    "# Collect data\n",
    "for i in 1:num_samples\n",
    "    # Generate random matrix\n",
    "    A = randn(n, n)\n",
    "    det_A = det(A)\n",
    "\n",
    "    # Compute QR factorization using modified Gram-Schmidt algorithm\n",
    "    Q_mgs, R_mgs = mgs(A)\n",
    "\n",
    "    mgs_orthogonality_errors[i] = opnorm(transpose(Q_mgs) * Q_mgs - LinearAlgebra.I)\n",
    "\n",
    "    det_Q = det(Q_mgs)\n",
    "    det_R = det(R_mgs)\n",
    "    mgs_det_errors[i] = abs((det_A - det_Q*det_R) / det_A)\n",
    "    \n",
    "    # Compute QR factorization using Householder orthogonalization\n",
    "    F_householder= qr(A)\n",
    "    Q_householder = F_householder.Q\n",
    "    R_householder = F_householder.R\n",
    "    \n",
    "    householder_orthogonality_errors[i] =\n",
    "        opnorm(transpose(Q_householder) * Q_householder - LinearAlgebra.I)\n",
    "\n",
    "    det_Q = det(Q_householder)\n",
    "    det_R = det(R_householder)\n",
    "    householder_det_errors[i] = abs((det_A - det_Q*det_R) / det_A)\n",
    "end"
   ]
  },
  {
   "cell_type": "markdown",
   "metadata": {},
   "source": [
    "### Results"
   ]
  },
  {
   "cell_type": "code",
   "execution_count": 6,
   "metadata": {},
   "outputs": [
    {
     "name": "stdout",
     "output_type": "stream",
     "text": [
      "mean(mgs_orthogonality_errors): 1.3412426147818091e-14\n",
      "std(mgs_orthogonality_errors): 1.952885182137655e-13\n",
      "mean(householder_orthogonality_errors): 1.1494784356870544e-15\n",
      "std(householder_orthogonality_errors): 2.867309089479007e-16\n"
     ]
    }
   ],
   "source": [
    "# --- Orthogonality Error\n",
    "\n",
    "println(\"mean(mgs_orthogonality_errors): \", mean(mgs_orthogonality_errors))\n",
    "println(\"std(mgs_orthogonality_errors): \", std(mgs_orthogonality_errors))\n",
    "\n",
    "println(\"mean(householder_orthogonality_errors): \", mean(householder_orthogonality_errors))\n",
    "println(\"std(householder_orthogonality_errors): \", std(householder_orthogonality_errors))"
   ]
  },
  {
   "cell_type": "code",
   "execution_count": 7,
   "metadata": {},
   "outputs": [
    {
     "name": "stdout",
     "output_type": "stream",
     "text": [
      "mean(mgs_det_errors): 3.4296252431458642e-15\n",
      "std(mgs_det_errors): 5.5391668143826156e-14\n",
      "mean(householder_det_errors): 5.761934017739607e-15\n",
      "std(householder_det_errors): 7.265482161796808e-14\n"
     ]
    }
   ],
   "source": [
    "# --- Determinant Error\n",
    "\n",
    "println(\"mean(mgs_det_errors): \", mean(mgs_det_errors))\n",
    "println(\"std(mgs_det_errors): \", std(mgs_det_errors))\n",
    "\n",
    "println(\"mean(householder_det_errors): \", mean(householder_det_errors))\n",
    "println(\"std(householder_det_errors): \", std(householder_det_errors))"
   ]
  }
 ],
 "metadata": {
  "kernelspec": {
   "display_name": "Julia 1.5.1",
   "language": "julia",
   "name": "julia-1.5"
  },
  "language_info": {
   "file_extension": ".jl",
   "mimetype": "application/julia",
   "name": "julia",
   "version": "1.5.1"
  }
 },
 "nbformat": 4,
 "nbformat_minor": 4
}
