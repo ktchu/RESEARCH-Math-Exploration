{
 "cells": [
  {
   "cell_type": "markdown",
   "id": "0ce4c029",
   "metadata": {},
   "source": [
    "## 2022-02-15: Distribution of $m$-Blade Volumes in $\\mathbb{R}^n$\n",
    "\n",
    "(Python Version)\n",
    "\n",
    "*Last Updated*: 2022-02-18\n",
    "\n",
    "### Authors\n",
    "* Kevin Chu (kevin@velexi.com)\n",
    "\n",
    "### Overview\n",
    "In this Jupyter notebook, we explore the distribution of the volume of the blade defined by $m$ vectors independently drawn from a uniform distribution over a unit hypersphere in $\\mathbb{R}^n$.\n",
    "\n",
    "### Methodology\n",
    "\n",
    "* Draw `num_samples` sets of $m$ vectors from a multivariate normal distribution with unit covariance matrix.\n",
    "\n",
    "    * Using a multivariate normal distribution with diagonal covariance matrix (1) ensures that vectors are drawn uniformly over directions while (2) allowing us to treat each vector component as an independent random variable.\n",
    "    \n",
    "* For each sample $x_1, \\ldots, x_m$, we perform the following computations to generate the volume distribution.\n",
    "\n",
    "    * Normalize all of the vectors to have unit length.\n",
    "\n",
    "    * Compute the $\\vert x_1 \\wedge \\cdots \\wedge x_m \\vert$ by computing determinant of the $R$ matrix of the QR decomposition of the matrix $[x_1 | \\cdots | x_m]$.\n",
    "\n",
    "### User Parameters\n",
    "\n",
    "* `num_samples`: number of samples to use for estimating probability distributions\n",
    "\n",
    "* `n`: dimension of space\n",
    "\n",
    "* `m`: dimension of blades to estimate probability distribution for"
   ]
  },
  {
   "cell_type": "code",
   "execution_count": 1,
   "id": "eb6019fc",
   "metadata": {},
   "outputs": [],
   "source": [
    "# --- User Parameters\n",
    "\n",
    "# Number of samples to use to estimate probability distributions\n",
    "num_samples = 100;\n",
    "\n",
    "# Dimension of space\n",
    "n = 10;\n",
    "\n",
    "# Blade dimension\n",
    "m = 2;"
   ]
  },
  {
   "cell_type": "code",
   "execution_count": 2,
   "id": "e0cfc9dc",
   "metadata": {},
   "outputs": [],
   "source": [
    "# --- Imports\n",
    "\n",
    "# External packages\n",
    "import numpy as np"
   ]
  },
  {
   "cell_type": "code",
   "execution_count": 3,
   "id": "72f989db",
   "metadata": {},
   "outputs": [],
   "source": [
    "# --- Generate samples\n",
    "\n",
    "# Generate sample of vectors drawn from a uniform distribution over an\n",
    "# n-dimensional unit hypersphere\n",
    "vector_samples = np.random.randn(n, num_samples * m)\n",
    "norms = np.linalg.norm(vector_samples, ord=2, axis=0)\n",
    "vector_samples = np.array([vector_samples[:,i]/norms[i] for i in range(num_samples)])\n",
    "\n",
    "# Generate sample of blades\n",
    "blades = [vector_samples[:, i*m:(i+1)*m] for i in range(num_samples)]"
   ]
  }
 ],
 "metadata": {
  "kernelspec": {
   "display_name": "Python 3 (ipykernel)",
   "language": "python",
   "name": "python3"
  },
  "language_info": {
   "codemirror_mode": {
    "name": "ipython",
    "version": 3
   },
   "file_extension": ".py",
   "mimetype": "text/x-python",
   "name": "python",
   "nbconvert_exporter": "python",
   "pygments_lexer": "ipython3",
   "version": "3.9.7"
  }
 },
 "nbformat": 4,
 "nbformat_minor": 5
}
