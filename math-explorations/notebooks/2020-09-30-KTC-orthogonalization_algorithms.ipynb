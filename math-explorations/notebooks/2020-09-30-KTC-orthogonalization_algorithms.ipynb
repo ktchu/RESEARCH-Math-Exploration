{
 "cells": [
  {
   "cell_type": "markdown",
   "metadata": {},
   "source": [
    "## 2020-09-30: Exploring Accuracy for Orthogonalization Algorithms\n",
    "\n",
    "*Last Updated*: 2020-09-30\n",
    "\n",
    "### Authors\n",
    "\n",
    "* Kevin Chu (kevin@velexi.com)\n",
    "\n",
    "### Overview\n",
    "\n",
    "In this Jupyter notebook, we explore the loss of orthogonality of modified Gram-Schmidt (MGS) and Householder triangularization algorithms.\n",
    "\n",
    "### Key Results\n",
    "\n",
    "* __Loss of Orthogonality__. For \"random matrices\", both MGS and Householder triangularization produce $Q$ matrices where $Q' * Q - I$ is within a couple of orders of magnitude of machine precision.\n",
    "\n",
    "    * $|Q' * Q - I|_2$ tends to be about an order of magnitude smaller for Householder triangularization than for MGS.\n",
    "    \n",
    "    * The standard deviation of $|Q' * Q - I|_2$ tends to be about several orders of magnitude smaller for Householder triangularization than for MGS.\n",
    "    \n",
    "* __Accuracy of Determinant__. For \"random matrices\", both MGS and Householder triangularization produce factorizations where the relative error of $\\det(Q R)$ is close to machine precision.\n",
    "\n",
    "    * The relative error of the $\\det(Q R)$ is very comparable for both algorithms.\n",
    "    \n",
    "### Conclusions\n",
    "\n",
    "* When orthogonality of $Q$ is important, Householder triangularization should be used to compute $Q$. For even simple and small matrices, MGS can lead to significant loss of orthogonality (see Special Cases section).\n",
    "\n",
    "* When only the determinant of $A$ is important, both algorithms yield similar levels of accuracy.\n",
    "    \n",
    "### User parameters\n",
    "\n",
    "* `n`: matrix size\n",
    "* `num_samples`: number of matrices to sample"
   ]
  },
  {
   "cell_type": "code",
   "execution_count": 1,
   "metadata": {},
   "outputs": [
    {
     "data": {
      "text/plain": [
       "10000"
      ]
     },
     "execution_count": 1,
     "metadata": {},
     "output_type": "execute_result"
    }
   ],
   "source": [
    "# --- User parameters\n",
    "\n",
    "n = 100\n",
    "num_samples = 10000"
   ]
  },
  {
   "cell_type": "code",
   "execution_count": 2,
   "metadata": {},
   "outputs": [],
   "source": [
    "# --- Imports\n",
    "\n",
    "using BenchmarkTools\n",
    "using LinearAlgebra\n",
    "using Statistics"
   ]
  },
  {
   "cell_type": "code",
   "execution_count": 3,
   "metadata": {},
   "outputs": [],
   "source": [
    "# --- Functions\n",
    "\n",
    "\"\"\"\n",
    "    Compute QR factorization of `A` using the modified Gram-Schmidt algorithm.\n",
    "\"\"\"\n",
    "function qr_mgs(A::Matrix)\n",
    "    # Initialize Q and R\n",
    "    Q = copy(A)\n",
    "    R = zero(A)\n",
    "    \n",
    "    for j in 1:size(Q, 2)\n",
    "        norm = LinearAlgebra.norm(Q[:, j])\n",
    "        if norm > 0\n",
    "            Q[:, j] /= norm\n",
    "            R[j, j] = norm\n",
    "        else\n",
    "            continue\n",
    "        end\n",
    "\n",
    "        column = Q[:, j]\n",
    "        for j_inner in (j + 1):size(Q, 2)\n",
    "            R[j, j_inner] = Q[:, j_inner] ⋅ column\n",
    "            Q[:, j_inner] -= R[j, j_inner] * column\n",
    "        end\n",
    "    end\n",
    "    \n",
    "    Q, R\n",
    "end;"
   ]
  },
  {
   "cell_type": "code",
   "execution_count": 4,
   "metadata": {},
   "outputs": [
    {
     "name": "stdout",
     "output_type": "stream",
     "text": [
      "Relative error Q * R: 1.235430925418796e-16\n",
      "Absolute error Q * R: 7.296305761975228e-16\n",
      "opnorm(Q' * Q): 1.0000000000000004\n",
      "det(A): -770.5772039632855\n",
      "det(Q): -1.0000000000000002\n",
      "det(R): 770.5772039632857\n",
      "Relative error det(Q * R):-5.901385981152523e-16\n",
      "Absolute error det(Q * R):4.547473508864641e-13\n"
     ]
    }
   ],
   "source": [
    "# --- Test qr_mgs()\n",
    "\n",
    "n = 10\n",
    "A = randn(n, n)\n",
    "Q, R = qr_mgs(A)\n",
    "\n",
    "println(\"Relative error Q * R: \", opnorm(A - Q * R)/opnorm(A))\n",
    "println(\"Absolute error Q * R: \", opnorm(A - Q * R))\n",
    "println(\"opnorm(Q' * Q): \", opnorm(transpose(Q) * Q))\n",
    "\n",
    "det_A = det(A)\n",
    "det_Q = det(Q)\n",
    "det_R = det(R)\n",
    "println(\"det(A): \", det_A)\n",
    "println(\"det(Q): \", det_Q)\n",
    "println(\"det(R): \", det_R)\n",
    "println(\"Relative error det(Q * R):\", (det_A - det_Q*det_R) / det_A)\n",
    "println(\"Absolute error det(Q * R):\", det_A - det_Q*det_R)"
   ]
  },
  {
   "cell_type": "markdown",
   "metadata": {},
   "source": [
    "### Run Experiments"
   ]
  },
  {
   "cell_type": "code",
   "execution_count": 5,
   "metadata": {},
   "outputs": [],
   "source": [
    "# Initialize data vectors\n",
    "mgs_orthogonality_errors = zeros(num_samples)\n",
    "householder_orthogonality_errors = zeros(num_samples)\n",
    "\n",
    "mgs_det_errors = zeros(num_samples)\n",
    "householder_det_errors = zeros(num_samples)\n",
    "\n",
    "# Collect data\n",
    "for i in 1:num_samples\n",
    "    # Generate random matrix\n",
    "    A = randn(n, n)\n",
    "    det_A = det(A)\n",
    "\n",
    "    # Compute QR factorization using modified Gram-Schmidt algorithm\n",
    "    Q_mgs, R_mgs = qr_mgs(A)\n",
    "\n",
    "    mgs_orthogonality_errors[i] = opnorm(transpose(Q_mgs) * Q_mgs - LinearAlgebra.I)\n",
    "\n",
    "    det_R = det(R_mgs)\n",
    "    mgs_det_errors[i] = abs((abs(det_A) - abs(det_R)) / det_A)\n",
    "    \n",
    "    # Compute QR factorization using Householder triangularization\n",
    "    F_householder= qr(A)\n",
    "    Q_householder = F_householder.Q\n",
    "    R_householder = F_householder.R\n",
    "    \n",
    "    householder_orthogonality_errors[i] =\n",
    "        opnorm(transpose(Q_householder) * Q_householder - LinearAlgebra.I)\n",
    "\n",
    "    det_R = det(R_householder)\n",
    "    householder_det_errors[i] = abs((abs(det_A) - abs(det_R)) / det_A)\n",
    "end"
   ]
  },
  {
   "cell_type": "markdown",
   "metadata": {},
   "source": [
    "### Results"
   ]
  },
  {
   "cell_type": "code",
   "execution_count": 6,
   "metadata": {},
   "outputs": [
    {
     "name": "stdout",
     "output_type": "stream",
     "text": [
      "mean(mgs_orthogonality_errors): 4.998935256305874e-14\n",
      "std(mgs_orthogonality_errors): 3.900375254390148e-12\n",
      "mean(householder_orthogonality_errors): 1.1448650345845443e-15\n",
      "std(householder_orthogonality_errors): 2.8484152762388585e-16\n"
     ]
    }
   ],
   "source": [
    "# --- Orthogonality Error\n",
    "\n",
    "println(\"mean(mgs_orthogonality_errors): \", mean(mgs_orthogonality_errors))\n",
    "println(\"std(mgs_orthogonality_errors): \", std(mgs_orthogonality_errors))\n",
    "\n",
    "println(\"mean(householder_orthogonality_errors): \", mean(householder_orthogonality_errors))\n",
    "println(\"std(householder_orthogonality_errors): \", std(householder_orthogonality_errors))"
   ]
  },
  {
   "cell_type": "code",
   "execution_count": 7,
   "metadata": {},
   "outputs": [
    {
     "name": "stdout",
     "output_type": "stream",
     "text": [
      "mean(mgs_det_errors): 9.64652399768703e-15\n",
      "std(mgs_det_errors): 6.672712064193565e-13\n",
      "mean(householder_det_errors): 2.7625912189299647e-14\n",
      "std(householder_det_errors): 2.2140359798021072e-12\n"
     ]
    }
   ],
   "source": [
    "# --- Determinant Error\n",
    "\n",
    "println(\"mean(mgs_det_errors): \", mean(mgs_det_errors))\n",
    "println(\"std(mgs_det_errors): \", std(mgs_det_errors))\n",
    "\n",
    "println(\"mean(householder_det_errors): \", mean(householder_det_errors))\n",
    "println(\"std(householder_det_errors): \", std(householder_det_errors))"
   ]
  },
  {
   "cell_type": "markdown",
   "metadata": {},
   "source": [
    "### Special Cases"
   ]
  },
  {
   "cell_type": "code",
   "execution_count": 8,
   "metadata": {},
   "outputs": [
    {
     "name": "stdout",
     "output_type": "stream",
     "text": [
      "MGS orthogonality error: 2.3014368188967183e-11\n",
      "MGS determinant error: 6.834983657002004e-12\n",
      "Householder triangularization orthogonality error: 2.351490101248793e-16\n",
      "Householder triangularization determinant error: 5.014565377055642e-12\n"
     ]
    }
   ],
   "source": [
    "# --- Special cases that demonstrate large loss of orthogonality with MGS\n",
    "\n",
    "A = [0.700000 0.70711; 0.70001 0.70711]\n",
    "det_A = det(A)\n",
    "\n",
    "# MGS\n",
    "Q_mgs, R_mgs = qr_mgs(A)\n",
    "println(\"MGS orthogonality error: \", opnorm(transpose(Q_mgs) * Q_mgs - LinearAlgebra.I))\n",
    "println(\"MGS determinant error: \", abs((abs(det_A) - abs(det(R_mgs))) / det_A))\n",
    "\n",
    "# Householder triangularization\n",
    "F_householder = qr(A)\n",
    "Q_householder = F_householder.Q\n",
    "R_householder = F_householder.R\n",
    "println(\"Householder triangularization orthogonality error: \",\n",
    "        opnorm(transpose(Q_householder) * Q_householder - LinearAlgebra.I))\n",
    "println(\"Householder triangularization determinant error: \",\n",
    "        abs((abs(det_A) - abs(det(R_householder))) / det_A))"
   ]
  }
 ],
 "metadata": {
  "kernelspec": {
   "display_name": "Julia 1.6.1",
   "language": "julia",
   "name": "julia-1.6"
  },
  "language_info": {
   "file_extension": ".jl",
   "mimetype": "application/julia",
   "name": "julia",
   "version": "1.5.1"
  }
 },
 "nbformat": 4,
 "nbformat_minor": 4
}
